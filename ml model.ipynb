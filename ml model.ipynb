{
 "cells": [
  {
   "cell_type": "markdown",
   "id": "4ac66862",
   "metadata": {},
   "source": [
    "Data Preparation"
   ]
  },
  {
   "cell_type": "code",
   "execution_count": 24,
   "id": "4326d42c",
   "metadata": {},
   "outputs": [
    {
     "data": {
      "text/plain": [
       "('data.zip', <http.client.HTTPMessage at 0x7fd6d7092050>)"
      ]
     },
     "execution_count": 24,
     "metadata": {},
     "output_type": "execute_result"
    }
   ],
   "source": [
    "import urllib.request\n",
    "\n",
    "urllib.request.urlretrieve('https://archive.ics.uci.edu/static/public/53/iris.zip','data.zip')"
   ]
  },
  {
   "cell_type": "code",
   "execution_count": 25,
   "id": "5d9c62a1",
   "metadata": {},
   "outputs": [
    {
     "name": "stdout",
     "output_type": "stream",
     "text": [
      "mkdir: cannot create directory ‘data’: File exists\n",
      "Archive:  data.zip\n",
      "replace data/Index? [y]es, [n]o, [A]ll, [N]one, [r]ename: ^C\n"
     ]
    }
   ],
   "source": [
    "!mkdir data\n",
    "\n",
    "!unzip data.zip -d data/"
   ]
  },
  {
   "cell_type": "code",
   "execution_count": 26,
   "id": "b3f5f87f",
   "metadata": {},
   "outputs": [
    {
     "name": "stdout",
     "output_type": "stream",
     "text": [
      "     0    1    2    3            4\n",
      "0  5.1  3.5  1.4  0.2  Iris-setosa\n",
      "1  4.9  3.0  1.4  0.2  Iris-setosa\n",
      "2  4.7  3.2  1.3  0.2  Iris-setosa\n",
      "3  4.6  3.1  1.5  0.2  Iris-setosa\n",
      "4  5.0  3.6  1.4  0.2  Iris-setosa\n"
     ]
    }
   ],
   "source": [
    "#read data\n",
    "\n",
    "import pandas as pd\n",
    "data = pd.read_csv('data/iris.data', header = None)\n",
    "\n",
    "print(data.head())"
   ]
  },
  {
   "cell_type": "code",
   "execution_count": 27,
   "id": "d2b550d5",
   "metadata": {},
   "outputs": [
    {
     "name": "stderr",
     "output_type": "stream",
     "text": [
      "/tmp/ipykernel_9413/2053375184.py:3: FutureWarning: Downcasting behavior in `replace` is deprecated and will be removed in a future version. To retain the old behavior, explicitly call `result.infer_objects(copy=False)`. To opt-in to the future behavior, set `pd.set_option('future.no_silent_downcasting', True)`\n",
      "  data[4] = data[4].replace('Iris-versicolor',2)\n"
     ]
    }
   ],
   "source": [
    "data[4] = data[4].replace('Iris-setosa',0)\n",
    "data[4] = data[4].replace('Iris-virginica',1)\n",
    "data[4] = data[4].replace('Iris-versicolor',2)"
   ]
  },
  {
   "cell_type": "code",
   "execution_count": 28,
   "id": "770b3754",
   "metadata": {},
   "outputs": [
    {
     "name": "stdout",
     "output_type": "stream",
     "text": [
      "     0    1    2    3  4\n",
      "0  5.1  3.5  1.4  0.2  0\n",
      "1  4.9  3.0  1.4  0.2  0\n",
      "2  4.7  3.2  1.3  0.2  0\n",
      "3  4.6  3.1  1.5  0.2  0\n",
      "4  5.0  3.6  1.4  0.2  0\n"
     ]
    }
   ],
   "source": [
    "print(data.head())"
   ]
  },
  {
   "cell_type": "code",
   "execution_count": 29,
   "id": "fd166d22",
   "metadata": {},
   "outputs": [
    {
     "name": "stdout",
     "output_type": "stream",
     "text": [
      "       0    1    2    3  4\n",
      "145  5.6  2.7  4.2  1.3  2\n",
      "146  6.0  2.9  4.5  1.5  2\n",
      "147  5.7  4.4  1.5  0.4  0\n",
      "148  4.8  3.0  1.4  0.3  0\n",
      "149  6.8  3.0  5.5  2.1  1\n"
     ]
    }
   ],
   "source": [
    "data = data.sample(frac=1).reset_index(drop=True)\n",
    "\n",
    "print(data.tail())"
   ]
  },
  {
   "cell_type": "code",
   "execution_count": 30,
   "id": "d0884f3a",
   "metadata": {},
   "outputs": [],
   "source": [
    "data = data[[4,0,1,2,3]]"
   ]
  },
  {
   "cell_type": "code",
   "execution_count": 31,
   "id": "2011eeb1",
   "metadata": {},
   "outputs": [],
   "source": [
    "train_data = data[:120]\n",
    "val_data = data[120:]"
   ]
  },
  {
   "cell_type": "code",
   "execution_count": 32,
   "id": "87203840",
   "metadata": {},
   "outputs": [],
   "source": [
    "import boto3\n",
    "\n",
    "bucket_name = 'sagemaker-deploy-test'\n",
    "\n",
    "train_data.to_csv('data.csv',header=False, index = False)\n",
    "key = 'data/train/data'\n",
    "\n",
    "url = 's3://{}/{}'.format(bucket_name,key)"
   ]
  },
  {
   "cell_type": "code",
   "execution_count": 33,
   "id": "c35b70ca",
   "metadata": {},
   "outputs": [
    {
     "name": "stderr",
     "output_type": "stream",
     "text": [
      "INFO:botocore.credentials:Found credentials from IAM Role: BaseNotebookInstanceEc2InstanceRole\n",
      "INFO:botocore.credentials:Found credentials from IAM Role: BaseNotebookInstanceEc2InstanceRole\n"
     ]
    }
   ],
   "source": [
    "train_data.to_csv('data.csv',header=False, index = False)\n",
    "key = 'data/train/data'\n",
    "\n",
    "url = 's3://{}/{}'.format(bucket_name,key)\n",
    "boto3.Session().resource('s3').Bucket(bucket_name).Object(key).upload_file('data.csv')\n",
    "\n",
    "val_data.to_csv('data.csv',header=False, index = False)\n",
    "key = 'data/val/data'\n",
    "\n",
    "url = 's3://{}/{}'.format(bucket_name,key)\n",
    "boto3.Session().resource('s3').Bucket(bucket_name).Object(key).upload_file('data.csv')"
   ]
  },
  {
   "cell_type": "markdown",
   "id": "9d1ee8f0",
   "metadata": {},
   "source": [
    "Model"
   ]
  },
  {
   "cell_type": "code",
   "execution_count": 37,
   "id": "7662c291",
   "metadata": {},
   "outputs": [
    {
     "name": "stderr",
     "output_type": "stream",
     "text": [
      "WARNING:sagemaker.deprecations:The method get_image_uri has been renamed in sagemaker>=2.\n",
      "See: https://sagemaker.readthedocs.io/en/stable/v2.html for details.\n",
      "INFO:sagemaker.image_uris:Ignoring unnecessary instance type: None.\n",
      "WARNING:sagemaker.deprecations:train_instance_count has been renamed in sagemaker>=2.\n",
      "See: https://sagemaker.readthedocs.io/en/stable/v2.html for details.\n",
      "WARNING:sagemaker.deprecations:train_instance_type has been renamed in sagemaker>=2.\n",
      "See: https://sagemaker.readthedocs.io/en/stable/v2.html for details.\n",
      "WARNING:sagemaker.deprecations:train_volume_size has been renamed in sagemaker>=2.\n",
      "See: https://sagemaker.readthedocs.io/en/stable/v2.html for details.\n"
     ]
    },
    {
     "name": "stdout",
     "output_type": "stream",
     "text": [
      "s3://sagemaker-deploy-test/model/xgb_model\n"
     ]
    }
   ],
   "source": [
    "import sagemaker\n",
    "from sagemaker.amazon.amazon_estimator import get_image_uri\n",
    "from sagemaker import get_execution_role\n",
    "\n",
    "bucket_name = 'sagemaker-deploy-test'\n",
    "key = 'model/xgb_model'\n",
    "s3_output_location = 's3://{}/{}'.format(bucket_name,key)\n",
    "\n",
    "print(s3_output_location)\n",
    "\n",
    "xgb_model = sagemaker.estimator.Estimator(\n",
    "    get_image_uri(boto3.Session().region_name, 'xgboost'),\n",
    "    get_execution_role(),\n",
    "    train_instance_count =1,\n",
    "    train_instance_type='ml.m4.xlarge',\n",
    "    train_volume_size = 5,\n",
    "    output_path = s3_output_location,\n",
    "    sagemaker_session = sagemaker.Session()\n",
    ")\n",
    "\n",
    "xgb_model.set_hyperparameters(\n",
    "    max_depth = 5,\n",
    "    eta = 0.2,\n",
    "    gamma = 4,\n",
    "    min_child_weight=6,\n",
    "    silent=0,\n",
    "    objective = 'multi:softmax',\n",
    "    num_class=3,\n",
    "    num_round=10\n",
    ")"
   ]
  },
  {
   "cell_type": "markdown",
   "id": "28e43427",
   "metadata": {},
   "source": [
    "### Training"
   ]
  },
  {
   "cell_type": "code",
   "execution_count": 38,
   "id": "67232e22",
   "metadata": {},
   "outputs": [
    {
     "name": "stderr",
     "output_type": "stream",
     "text": [
      "WARNING:sagemaker.deprecations:The class sagemaker.session.s3_input has been renamed in sagemaker>=2.\n",
      "See: https://sagemaker.readthedocs.io/en/stable/v2.html for details.\n",
      "WARNING:sagemaker.deprecations:The class sagemaker.session.s3_input has been renamed in sagemaker>=2.\n",
      "See: https://sagemaker.readthedocs.io/en/stable/v2.html for details.\n",
      "INFO:sagemaker:Creating training-job with name: xgboost-2024-07-01-14-57-51-736\n"
     ]
    },
    {
     "name": "stdout",
     "output_type": "stream",
     "text": [
      "2024-07-01 14:57:51 Starting - Starting the training job...\n",
      "2024-07-01 14:58:05 Starting - Preparing the instances for training...\n",
      "2024-07-01 14:58:36 Downloading - Downloading input data...\n",
      "2024-07-01 14:59:11 Downloading - Downloading the training image......\n",
      "2024-07-01 15:00:17 Training - Training image download completed. Training in progress.\n",
      "2024-07-01 15:00:17 Uploading - Uploading generated training model\u001b[34mArguments: train\u001b[0m\n",
      "\u001b[34m[2024-07-01:15:00:12:INFO] Running standalone xgboost training.\u001b[0m\n",
      "\u001b[34m[2024-07-01:15:00:12:INFO] File size need to be processed in the node: 0.0mb. Available memory size in the node: 8450.2mb\u001b[0m\n",
      "\u001b[34m[2024-07-01:15:00:12:INFO] Determined delimiter of CSV input is ','\u001b[0m\n",
      "\u001b[34m[15:00:12] S3DistributionType set as FullyReplicated\u001b[0m\n",
      "\u001b[34m[15:00:12] 120x4 matrix with 480 entries loaded from /opt/ml/input/data/train?format=csv&label_column=0&delimiter=,\u001b[0m\n",
      "\u001b[34m[2024-07-01:15:00:12:INFO] Determined delimiter of CSV input is ','\u001b[0m\n",
      "\u001b[34m[15:00:12] S3DistributionType set as FullyReplicated\u001b[0m\n",
      "\u001b[34m[15:00:12] 30x4 matrix with 120 entries loaded from /opt/ml/input/data/validation?format=csv&label_column=0&delimiter=,\u001b[0m\n",
      "\u001b[34m[15:00:12] src/tree/updater_prune.cc:74: tree pruning end, 1 roots, 2 extra nodes, 0 pruned nodes, max_depth=1\u001b[0m\n",
      "\u001b[34m[15:00:12] src/tree/updater_prune.cc:74: tree pruning end, 1 roots, 2 extra nodes, 0 pruned nodes, max_depth=1\u001b[0m\n",
      "\u001b[34m[15:00:12] src/tree/updater_prune.cc:74: tree pruning end, 1 roots, 4 extra nodes, 2 pruned nodes, max_depth=2\u001b[0m\n",
      "\u001b[34m[0]#011train-merror:0.041667#011validation-merror:0.066667\u001b[0m\n",
      "\u001b[34m[15:00:12] src/tree/updater_prune.cc:74: tree pruning end, 1 roots, 2 extra nodes, 0 pruned nodes, max_depth=1\u001b[0m\n",
      "\u001b[34m[15:00:12] src/tree/updater_prune.cc:74: tree pruning end, 1 roots, 2 extra nodes, 2 pruned nodes, max_depth=1\u001b[0m\n",
      "\u001b[34m[15:00:12] src/tree/updater_prune.cc:74: tree pruning end, 1 roots, 4 extra nodes, 2 pruned nodes, max_depth=2\u001b[0m\n",
      "\u001b[34m[1]#011train-merror:0.033333#011validation-merror:0.066667\u001b[0m\n",
      "\u001b[34m[15:00:12] src/tree/updater_prune.cc:74: tree pruning end, 1 roots, 2 extra nodes, 0 pruned nodes, max_depth=1\u001b[0m\n",
      "\u001b[34m[15:00:12] src/tree/updater_prune.cc:74: tree pruning end, 1 roots, 2 extra nodes, 2 pruned nodes, max_depth=1\u001b[0m\n",
      "\u001b[34m[15:00:12] src/tree/updater_prune.cc:74: tree pruning end, 1 roots, 4 extra nodes, 2 pruned nodes, max_depth=2\u001b[0m\n",
      "\u001b[34m[2]#011train-merror:0.033333#011validation-merror:0.066667\u001b[0m\n",
      "\u001b[34m[15:00:12] src/tree/updater_prune.cc:74: tree pruning end, 1 roots, 2 extra nodes, 0 pruned nodes, max_depth=1\u001b[0m\n",
      "\u001b[34m[15:00:12] src/tree/updater_prune.cc:74: tree pruning end, 1 roots, 2 extra nodes, 2 pruned nodes, max_depth=1\u001b[0m\n",
      "\u001b[34m[15:00:12] src/tree/updater_prune.cc:74: tree pruning end, 1 roots, 4 extra nodes, 0 pruned nodes, max_depth=2\u001b[0m\n",
      "\u001b[34m[3]#011train-merror:0.033333#011validation-merror:0.066667\u001b[0m\n",
      "\u001b[34m[15:00:12] src/tree/updater_prune.cc:74: tree pruning end, 1 roots, 2 extra nodes, 0 pruned nodes, max_depth=1\u001b[0m\n",
      "\u001b[34m[15:00:12] src/tree/updater_prune.cc:74: tree pruning end, 1 roots, 2 extra nodes, 2 pruned nodes, max_depth=1\u001b[0m\n",
      "\u001b[34m[15:00:12] src/tree/updater_prune.cc:74: tree pruning end, 1 roots, 4 extra nodes, 2 pruned nodes, max_depth=2\u001b[0m\n",
      "\u001b[34m[4]#011train-merror:0.033333#011validation-merror:0.066667\u001b[0m\n",
      "\u001b[34m[15:00:12] src/tree/updater_prune.cc:74: tree pruning end, 1 roots, 2 extra nodes, 0 pruned nodes, max_depth=1\u001b[0m\n",
      "\u001b[34m[15:00:12] src/tree/updater_prune.cc:74: tree pruning end, 1 roots, 2 extra nodes, 2 pruned nodes, max_depth=1\u001b[0m\n",
      "\u001b[34m[15:00:12] src/tree/updater_prune.cc:74: tree pruning end, 1 roots, 4 extra nodes, 2 pruned nodes, max_depth=2\u001b[0m\n",
      "\u001b[34m[5]#011train-merror:0.033333#011validation-merror:0.066667\u001b[0m\n",
      "\u001b[34m[15:00:12] src/tree/updater_prune.cc:74: tree pruning end, 1 roots, 2 extra nodes, 0 pruned nodes, max_depth=1\u001b[0m\n",
      "\u001b[34m[15:00:12] src/tree/updater_prune.cc:74: tree pruning end, 1 roots, 2 extra nodes, 2 pruned nodes, max_depth=1\u001b[0m\n",
      "\u001b[34m[15:00:12] src/tree/updater_prune.cc:74: tree pruning end, 1 roots, 4 extra nodes, 2 pruned nodes, max_depth=2\u001b[0m\n",
      "\u001b[34m[6]#011train-merror:0.033333#011validation-merror:0.066667\u001b[0m\n",
      "\u001b[34m[15:00:12] src/tree/updater_prune.cc:74: tree pruning end, 1 roots, 2 extra nodes, 0 pruned nodes, max_depth=1\u001b[0m\n",
      "\u001b[34m[15:00:12] src/tree/updater_prune.cc:74: tree pruning end, 1 roots, 2 extra nodes, 2 pruned nodes, max_depth=1\u001b[0m\n",
      "\u001b[34m[15:00:12] src/tree/updater_prune.cc:74: tree pruning end, 1 roots, 4 extra nodes, 2 pruned nodes, max_depth=2\u001b[0m\n",
      "\u001b[34m[7]#011train-merror:0.033333#011validation-merror:0.066667\u001b[0m\n",
      "\u001b[34m[15:00:12] src/tree/updater_prune.cc:74: tree pruning end, 1 roots, 2 extra nodes, 0 pruned nodes, max_depth=1\u001b[0m\n",
      "\u001b[34m[15:00:12] src/tree/updater_prune.cc:74: tree pruning end, 1 roots, 2 extra nodes, 2 pruned nodes, max_depth=1\u001b[0m\n",
      "\u001b[34m[15:00:12] src/tree/updater_prune.cc:74: tree pruning end, 1 roots, 4 extra nodes, 2 pruned nodes, max_depth=2\u001b[0m\n",
      "\u001b[34m[15:00:12] src/tree/updater_prune.cc:74: tree pruning end, 1 roots, 2 extra nodes, 0 pruned nodes, max_depth=1\u001b[0m\n",
      "\u001b[34m[8]#011train-merror:0.033333#011validation-merror:0.033333\u001b[0m\n",
      "\u001b[34m[15:00:12] src/tree/updater_prune.cc:74: tree pruning end, 1 roots, 2 extra nodes, 2 pruned nodes, max_depth=1\u001b[0m\n",
      "\u001b[34m[15:00:12] src/tree/updater_prune.cc:74: tree pruning end, 1 roots, 0 extra nodes, 6 pruned nodes, max_depth=0\u001b[0m\n",
      "\u001b[34m[9]#011train-merror:0.033333#011validation-merror:0.066667\u001b[0m\n",
      "\n",
      "2024-07-01 15:00:30 Completed - Training job completed\n",
      "Training seconds: 114\n",
      "Billable seconds: 114\n"
     ]
    }
   ],
   "source": [
    "train_data = 's3://{}/{}'.format(bucket_name,'data/train')\n",
    "val_data = 's3://{}/{}'.format(bucket_name,'data/val')\n",
    "\n",
    "train_channel = sagemaker.session.s3_input(train_data,content_type='text/csv')\n",
    "val_channel = sagemaker.session.s3_input(val_data,content_type='text/csv')\n",
    "\n",
    "\n",
    "data_channels = {'train':train_channel, 'validation':val_channel}\n",
    "xgb_model.fit(inputs=data_channels)"
   ]
  },
  {
   "cell_type": "markdown",
   "id": "4c9a94ab",
   "metadata": {},
   "source": [
    "### Deploy"
   ]
  },
  {
   "cell_type": "code",
   "execution_count": 39,
   "id": "b0693ca3",
   "metadata": {},
   "outputs": [
    {
     "name": "stderr",
     "output_type": "stream",
     "text": [
      "INFO:sagemaker:Creating model with name: xgboost-2024-07-01-15-15-04-363\n",
      "INFO:sagemaker:Creating endpoint-config with name xgboost-2024-07-01-15-15-04-363\n",
      "INFO:sagemaker:Creating endpoint with name xgboost-2024-07-01-15-15-04-363\n"
     ]
    },
    {
     "name": "stdout",
     "output_type": "stream",
     "text": [
      "------!"
     ]
    }
   ],
   "source": [
    "xgb_predictor = xgb_model.deploy(initial_instance_count=1,\n",
    "                                instance_type='ml.m4.xlarge')"
   ]
  },
  {
   "cell_type": "code",
   "execution_count": null,
   "id": "ac586de8",
   "metadata": {},
   "outputs": [],
   "source": []
  }
 ],
 "metadata": {
  "kernelspec": {
   "display_name": "conda_python3",
   "language": "python",
   "name": "conda_python3"
  },
  "language_info": {
   "codemirror_mode": {
    "name": "ipython",
    "version": 3
   },
   "file_extension": ".py",
   "mimetype": "text/x-python",
   "name": "python",
   "nbconvert_exporter": "python",
   "pygments_lexer": "ipython3",
   "version": "3.10.14"
  }
 },
 "nbformat": 4,
 "nbformat_minor": 5
}
